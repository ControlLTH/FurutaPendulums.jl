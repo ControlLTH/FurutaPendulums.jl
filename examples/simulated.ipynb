{
 "cells": [
  {
   "cell_type": "code",
   "execution_count": null,
   "source": [
    "import Pkg\n",
    "Pkg.activate(\".\")\n",
    "Pkg.instantiate()"
   ],
   "outputs": [],
   "metadata": {}
  },
  {
   "cell_type": "code",
   "execution_count": null,
   "source": [
    "using FurutaPendulums, Plots, DelimitedFiles"
   ],
   "outputs": [],
   "metadata": {}
  },
  {
   "cell_type": "code",
   "execution_count": null,
   "source": [
    "furuta = SimulatedFurutaPendulum(τc=0.0, τv=0.001) # Friction not well calibrated?"
   ],
   "outputs": [],
   "metadata": {}
  },
  {
   "cell_type": "code",
   "execution_count": null,
   "source": [
    "measure(furuta)"
   ],
   "outputs": [],
   "metadata": {}
  },
  {
   "cell_type": "code",
   "execution_count": null,
   "source": [
    "start_time = last_time = periodic_wait(furuta, 0.0, 0.0)\n",
    "\n",
    "xs = Array{Float64, 2}(undef, 4, 0)\n",
    "us = Float64[]\n",
    "ts = Float64[]\n",
    "\n",
    "h = 0.01\n",
    "T = 5\n",
    "for _ in 0:round(T/h)\n",
    "    last_time = periodic_wait(furuta, last_time, h)\n",
    "    u = 0.2\n",
    "    control(furuta, u)\n",
    "    x = measure(furuta)\n",
    "    xs = [xs x]\n",
    "    us = [us; u]\n",
    "    ts = [ts; last_time - start_time]\n",
    "end\n",
    "xs = xs'"
   ],
   "outputs": [],
   "metadata": {}
  },
  {
   "cell_type": "code",
   "execution_count": null,
   "source": [
    "let p1 = plot(ts, xs[:, [1, 3]], label=[\"ϕ\" \"θ\"]),\n",
    "    p2 = plot(ts, xs[:, [2, 4]], label=[\"ϕdot\" \"θdot\"]),\n",
    "    p3 = plot(ts, us, label=\"u\")\n",
    "    plot(p1, p2, p3, layout=(3, 1))\n",
    "end"
   ],
   "outputs": [],
   "metadata": {}
  },
  {
   "cell_type": "code",
   "execution_count": null,
   "source": [
    "furuta.x = [0.0, 0.0, 0.1, 0.0]\n",
    "\n",
    "start_time = last_time = periodic_wait(furuta, 0.0, 0.0)\n",
    "\n",
    "xs = Array{Float64, 2}(undef, 4, 0)\n",
    "us = Float64[]\n",
    "ts = Float64[]\n",
    "\n",
    "h = 0.01\n",
    "T = 5\n",
    "for _ in 0:round(T/h)\n",
    "    last_time = periodic_wait(furuta, last_time, h)\n",
    "    u = 0.0\n",
    "    control(furuta, u)\n",
    "    x = measure(furuta)\n",
    "    xs = [xs x]\n",
    "    us = [us; u]\n",
    "    ts = [ts; last_time - start_time]\n",
    "end\n",
    "xs = xs'"
   ],
   "outputs": [],
   "metadata": {}
  },
  {
   "cell_type": "code",
   "execution_count": null,
   "source": [
    "let p1 = plot(ts, xs[:, [1, 3]], label=[\"ϕ\" \"θ\"]),\n",
    "    p2 = plot(ts, xs[:, [2, 4]], label=[\"ϕdot\" \"θdot\"]),\n",
    "    p3 = plot(ts, us, label=\"u\")\n",
    "    plot(p1, p2, p3, layout=(3, 1))\n",
    "end"
   ],
   "outputs": [],
   "metadata": {}
  },
  {
   "cell_type": "code",
   "execution_count": null,
   "source": [],
   "outputs": [],
   "metadata": {}
  }
 ],
 "metadata": {
  "kernelspec": {
   "display_name": "Julia 1.6.2",
   "language": "julia",
   "name": "julia-1.6"
  },
  "language_info": {
   "file_extension": ".jl",
   "mimetype": "application/julia",
   "name": "julia",
   "version": "1.6.2"
  }
 },
 "nbformat": 4,
 "nbformat_minor": 4
}